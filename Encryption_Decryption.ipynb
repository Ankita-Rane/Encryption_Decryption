{
  "nbformat": 4,
  "nbformat_minor": 0,
  "metadata": {
    "colab": {
      "name": "Encryption_Decryption.ipynb",
      "provenance": [],
      "collapsed_sections": [],
      "authorship_tag": "ABX9TyMQ4kndxzUgpOJcoIVZNZIN",
      "include_colab_link": true
    },
    "kernelspec": {
      "name": "python3",
      "display_name": "Python 3"
    },
    "language_info": {
      "name": "python"
    }
  },
  "cells": [
    {
      "cell_type": "markdown",
      "metadata": {
        "id": "view-in-github",
        "colab_type": "text"
      },
      "source": [
        "<a href=\"https://colab.research.google.com/github/Ankita-Rane/Encryption_Decryption/blob/main/Encryption_Decryption.ipynb\" target=\"_parent\"><img src=\"https://colab.research.google.com/assets/colab-badge.svg\" alt=\"Open In Colab\"/></a>"
      ]
    },
    {
      "cell_type": "code",
      "metadata": {
        "colab": {
          "base_uri": "https://localhost:8080/"
        },
        "id": "QeQIf8fTUAML",
        "outputId": "2a6dd81c-9a51-45ed-8425-e45b7bab3061"
      },
      "source": [
        "import sys\n",
        "!{sys.executable} -m pip install fernet\n",
        "!{sys.executable} -m pip install cryptography\n"
      ],
      "execution_count": null,
      "outputs": [
        {
          "output_type": "stream",
          "text": [
            "Collecting fernet\n",
            "  Downloading https://files.pythonhosted.org/packages/70/ab/59678e91d691a6121b98b3272d563da84160e03d865a236df93fb2910684/fernet-1.0.1.tar.gz\n",
            "Collecting pyaes\n",
            "  Downloading https://files.pythonhosted.org/packages/44/66/2c17bae31c906613795711fc78045c285048168919ace2220daa372c7d72/pyaes-1.6.1.tar.gz\n",
            "Building wheels for collected packages: fernet, pyaes\n",
            "  Building wheel for fernet (setup.py) ... \u001b[?25l\u001b[?25hdone\n",
            "  Created wheel for fernet: filename=fernet-1.0.1-cp37-none-any.whl size=2241 sha256=b2448e04e58b45ad04ce1bd085d91d16b4d586c2a54d59ea4afa8158cc3ce11d\n",
            "  Stored in directory: /root/.cache/pip/wheels/f3/43/c3/8ceadf7f614a43784db0955f4c8957af6a083a060c564b5242\n",
            "  Building wheel for pyaes (setup.py) ... \u001b[?25l\u001b[?25hdone\n",
            "  Created wheel for pyaes: filename=pyaes-1.6.1-cp37-none-any.whl size=26363 sha256=f41e59ca31f45da0440458e19526069d9657a2c2fb6e82a69df2973369bbb136\n",
            "  Stored in directory: /root/.cache/pip/wheels/bd/cf/7b/ced9e8f28c50ed666728e8ab178ffedeb9d06f6a10f85d6432\n",
            "Successfully built fernet pyaes\n",
            "Installing collected packages: pyaes, fernet\n",
            "Successfully installed fernet-1.0.1 pyaes-1.6.1\n",
            "Collecting cryptography\n",
            "\u001b[?25l  Downloading https://files.pythonhosted.org/packages/b2/26/7af637e6a7e87258b963f1731c5982fb31cd507f0d90d91836e446955d02/cryptography-3.4.7-cp36-abi3-manylinux2014_x86_64.whl (3.2MB)\n",
            "\u001b[K     |████████████████████████████████| 3.2MB 12.6MB/s \n",
            "\u001b[?25hRequirement already satisfied: cffi>=1.12 in /usr/local/lib/python3.7/dist-packages (from cryptography) (1.14.5)\n",
            "Requirement already satisfied: pycparser in /usr/local/lib/python3.7/dist-packages (from cffi>=1.12->cryptography) (2.20)\n",
            "Installing collected packages: cryptography\n",
            "Successfully installed cryptography-3.4.7\n"
          ],
          "name": "stdout"
        }
      ]
    },
    {
      "cell_type": "code",
      "metadata": {
        "id": "GXHCeip1I9LO",
        "colab": {
          "base_uri": "https://localhost:8080/"
        },
        "outputId": "f899d22a-53f6-4293-baed-66e5398c2093"
      },
      "source": [
        "import argparse\n",
        "import os\n",
        "import fernet\n",
        "import cryptography\n",
        "from cryptography.fernet import Fernet\n",
        "\n",
        "def get_decPassword(strEncPass,fernet):\n",
        "    decPassword = (fernet.decrypt(strEncPass)).decode('utf-8')\n",
        "    print(decPassword)\n",
        "    return decPassword\n",
        "\n",
        "def get_encPassword(strPass,fernet):\n",
        "    encPassword = fernet.encrypt(strPass.encode('utf-8'))\n",
        "    print(encPassword)\n",
        "    return encPassword\n",
        "\n",
        "def user_input():\n",
        "    text = input('Enter text : \\n')\n",
        "    return text\n",
        "\n",
        "def run(param_type):\n",
        "    global param\n",
        "    param = param_type\n",
        "    global fernet\n",
        "\n",
        "    if param == 'encrypt' :\n",
        "        #generate key when encryption is required\n",
        "        key = Fernet.generate_key()\n",
        "        with open('fernet.key', 'wb') as write_key:\n",
        "            encryption_key = write_key.write(key)\n",
        "        fernet = Fernet(key)\n",
        "\n",
        "        plain_text = user_input()\n",
        "        encypted_password = get_encPassword(plain_text,fernet)\n",
        "        os.chdir(config_path)\n",
        "        with open('properties.txt', 'wb') as write_file:\n",
        "            write_file.write(encypted_password)\n",
        "\n",
        "    elif param == 'decrypt' :\n",
        "        with open('fernet.key','rb') as read_key :\n",
        "            rk = read_key.read()\n",
        "        fernet = Fernet(rk)\n",
        "\n",
        "        with open('properties.txt', 'rb') as read_file:\n",
        "            rf = read_file.read()\n",
        "        get_decPassword(rf,fernet)\n",
        "\n",
        "if __name__ == '__main__':\n",
        "\n",
        "    parser = argparse.ArgumentParser(description=__doc__, formatter_class=argparse.RawDescriptionHelpFormatter)\n",
        "    parser.add_argument(\n",
        "        '--param_type',\n",
        "        required=True,\n",
        "        help=\"provide param_type as encrypt or decrypt\"\n",
        "    )\n",
        "    args = parser.parse_args()\n",
        "    run(\n",
        "        args.param_type\n",
        "    )"
      ],
      "execution_count": null,
      "outputs": [
        {
          "output_type": "error",
          "ename": "ModuleNotFoundError",
          "evalue": "ignored",
          "traceback": [
            "\u001b[0;31m---------------------------------------------------------------------------\u001b[0m",
            "\u001b[0;31mModuleNotFoundError\u001b[0m                       Traceback (most recent call last)",
            "\u001b[0;32m<ipython-input-1-bd768b1b6296>\u001b[0m in \u001b[0;36m<module>\u001b[0;34m()\u001b[0m\n\u001b[1;32m      1\u001b[0m \u001b[0;32mimport\u001b[0m \u001b[0margparse\u001b[0m\u001b[0;34m\u001b[0m\u001b[0;34m\u001b[0m\u001b[0m\n\u001b[1;32m      2\u001b[0m \u001b[0;32mimport\u001b[0m \u001b[0mos\u001b[0m\u001b[0;34m\u001b[0m\u001b[0;34m\u001b[0m\u001b[0m\n\u001b[0;32m----> 3\u001b[0;31m \u001b[0;32mimport\u001b[0m \u001b[0mfernet\u001b[0m\u001b[0;34m\u001b[0m\u001b[0;34m\u001b[0m\u001b[0m\n\u001b[0m\u001b[1;32m      4\u001b[0m \u001b[0;32mimport\u001b[0m \u001b[0mcryptography\u001b[0m\u001b[0;34m\u001b[0m\u001b[0;34m\u001b[0m\u001b[0m\n\u001b[1;32m      5\u001b[0m \u001b[0;32mfrom\u001b[0m \u001b[0mcryptography\u001b[0m\u001b[0;34m.\u001b[0m\u001b[0mfernet\u001b[0m \u001b[0;32mimport\u001b[0m \u001b[0mFernet\u001b[0m\u001b[0;34m\u001b[0m\u001b[0;34m\u001b[0m\u001b[0m\n",
            "\u001b[0;31mModuleNotFoundError\u001b[0m: No module named 'fernet'",
            "",
            "\u001b[0;31m---------------------------------------------------------------------------\u001b[0;32m\nNOTE: If your import is failing due to a missing package, you can\nmanually install dependencies using either !pip or !apt.\n\nTo view examples of installing some common dependencies, click the\n\"Open Examples\" button below.\n\u001b[0;31m---------------------------------------------------------------------------\u001b[0m\n"
          ]
        }
      ]
    },
    {
      "cell_type": "code",
      "metadata": {
        "id": "VnzJnijnDunv"
      },
      "source": [
        "from google.colab import drive\n",
        "drive.mount('/content/drive')"
      ],
      "execution_count": null,
      "outputs": []
    }
  ]
}